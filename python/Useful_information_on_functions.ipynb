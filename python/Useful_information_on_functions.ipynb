{
 "cells": [
  {
   "cell_type": "markdown",
   "id": "628d5538-281e-42ca-b609-b033cd8be2be",
   "metadata": {},
   "source": [
    "#### Function without return, returns None "
   ]
  },
  {
   "cell_type": "code",
   "execution_count": 13,
   "id": "622b44e8-9f02-41ac-8580-1e9c5276c73e",
   "metadata": {},
   "outputs": [],
   "source": [
    "def square(num):\n",
    "    \"\"\" This function square the input \"\"\"\n",
    "    return num ** 2"
   ]
  },
  {
   "cell_type": "code",
   "execution_count": 14,
   "id": "ba86eff2-3cd5-41e8-b3a3-b8b0e30b93f0",
   "metadata": {},
   "outputs": [
    {
     "name": "stdout",
     "output_type": "stream",
     "text": [
      "25\n"
     ]
    }
   ],
   "source": [
    "print(square(5))"
   ]
  },
  {
   "cell_type": "markdown",
   "id": "f25ea560-6d02-4f26-ae84-05bb69f0a797",
   "metadata": {},
   "source": [
    "### To print the function signature \n",
    "### also the docstring specified with \"\"\" \"\"\"\n",
    "### type of object\n",
    "#### using `?` at the end of the function displays the info"
   ]
  },
  {
   "cell_type": "code",
   "execution_count": 15,
   "id": "a2e19d4e-ec65-492c-a686-8a2ac30b8975",
   "metadata": {},
   "outputs": [
    {
     "data": {
      "text/plain": [
       "\u001b[1;31mSignature:\u001b[0m \u001b[0msquare\u001b[0m\u001b[1;33m(\u001b[0m\u001b[0mnum\u001b[0m\u001b[1;33m)\u001b[0m\u001b[1;33m\u001b[0m\u001b[1;33m\u001b[0m\u001b[0m\n",
       "\u001b[1;31mDocstring:\u001b[0m This function square the input \n",
       "\u001b[1;31mFile:\u001b[0m      c:\\users\\thirum~1\\appdata\\local\\temp\\ipykernel_8668\\3874973209.py\n",
       "\u001b[1;31mType:\u001b[0m      function\n"
      ]
     },
     "metadata": {},
     "output_type": "display_data"
    }
   ],
   "source": [
    "square?"
   ]
  },
  {
   "cell_type": "markdown",
   "id": "f2482c84-6e9a-4ffb-bcba-bd01247c125b",
   "metadata": {},
   "source": [
    "### to display the full soruce defintions use `??` at the end of the function"
   ]
  },
  {
   "cell_type": "code",
   "execution_count": 17,
   "id": "df7e0731-37de-43ea-a606-89feefad14e8",
   "metadata": {},
   "outputs": [
    {
     "data": {
      "text/plain": [
       "\u001b[1;31mSignature:\u001b[0m \u001b[0msquare\u001b[0m\u001b[1;33m(\u001b[0m\u001b[0mnum\u001b[0m\u001b[1;33m)\u001b[0m\u001b[1;33m\u001b[0m\u001b[1;33m\u001b[0m\u001b[0m\n",
       "\u001b[1;31mSource:\u001b[0m   \n",
       "\u001b[1;32mdef\u001b[0m \u001b[0msquare\u001b[0m\u001b[1;33m(\u001b[0m\u001b[0mnum\u001b[0m\u001b[1;33m)\u001b[0m\u001b[1;33m:\u001b[0m\u001b[1;33m\n",
       "\u001b[0m    \u001b[1;34m\"\"\" This function square the input \"\"\"\u001b[0m\u001b[1;33m\n",
       "\u001b[0m    \u001b[1;32mreturn\u001b[0m \u001b[0mnum\u001b[0m \u001b[1;33m**\u001b[0m \u001b[1;36m2\u001b[0m\u001b[1;33m\u001b[0m\u001b[1;33m\u001b[0m\u001b[0m\n",
       "\u001b[1;31mFile:\u001b[0m      c:\\users\\thirum~1\\appdata\\local\\temp\\ipykernel_8668\\3874973209.py\n",
       "\u001b[1;31mType:\u001b[0m      function\n"
      ]
     },
     "metadata": {},
     "output_type": "display_data"
    }
   ],
   "source": [
    "square??"
   ]
  },
  {
   "cell_type": "code",
   "execution_count": 19,
   "id": "be68ea49-aabe-4447-bac1-923b77981ea7",
   "metadata": {},
   "outputs": [
    {
     "data": {
      "text/plain": [
       "\u001b[1;31mSignature:\u001b[0m \u001b[0msum\u001b[0m\u001b[1;33m(\u001b[0m\u001b[0miterable\u001b[0m\u001b[1;33m,\u001b[0m \u001b[1;33m/\u001b[0m\u001b[1;33m,\u001b[0m \u001b[0mstart\u001b[0m\u001b[1;33m=\u001b[0m\u001b[1;36m0\u001b[0m\u001b[1;33m)\u001b[0m\u001b[1;33m\u001b[0m\u001b[1;33m\u001b[0m\u001b[0m\n",
       "\u001b[1;31mDocstring:\u001b[0m\n",
       "Return the sum of a 'start' value (default: 0) plus an iterable of numbers\n",
       "\n",
       "When the iterable is empty, return the start value.\n",
       "This function is intended specifically for use with numeric values and may\n",
       "reject non-numeric types.\n",
       "\u001b[1;31mType:\u001b[0m      builtin_function_or_method\n"
      ]
     },
     "metadata": {},
     "output_type": "display_data"
    }
   ],
   "source": [
    "## when using ?? and if the source defintion is not available, \n",
    "## it displays the content of using ? i\n",
    "sum??"
   ]
  },
  {
   "cell_type": "code",
   "execution_count": 20,
   "id": "703cef04-3971-4083-9c29-2a5d68662cea",
   "metadata": {},
   "outputs": [],
   "source": [
    "import statistics"
   ]
  },
  {
   "cell_type": "markdown",
   "id": "3bcc30ae-bfbd-4427-a249-799bb8fd1861",
   "metadata": {},
   "source": [
    "#### Simple ? on the module, it provides the help documentation, in `ipython` \n",
    "#### it will prompt the user to move up and down in case if the documentation\n",
    "#### is beyond certain number of lines"
   ]
  },
  {
   "cell_type": "code",
   "execution_count": 21,
   "id": "045f5892-1df6-43c3-8ec2-10a08e7287f9",
   "metadata": {},
   "outputs": [
    {
     "data": {
      "text/plain": [
       "\u001b[1;31mType:\u001b[0m        module\n",
       "\u001b[1;31mString form:\u001b[0m <module 'statistics' from 'C:\\\\Users\\\\thirumurthi\\\\AppData\\\\Local\\\\Programs\\\\Python\\\\Python39\\\\lib\\\\statistics.py'>\n",
       "\u001b[1;31mFile:\u001b[0m        c:\\users\\thirumurthi\\appdata\\local\\programs\\python\\python39\\lib\\statistics.py\n",
       "\u001b[1;31mDocstring:\u001b[0m  \n",
       "Basic statistics module.\n",
       "\n",
       "This module provides functions for calculating statistics of data, including\n",
       "averages, variance, and standard deviation.\n",
       "\n",
       "Calculating averages\n",
       "--------------------\n",
       "\n",
       "==================  ==================================================\n",
       "Function            Description\n",
       "==================  ==================================================\n",
       "mean                Arithmetic mean (average) of data.\n",
       "fmean               Fast, floating point arithmetic mean.\n",
       "geometric_mean      Geometric mean of data.\n",
       "harmonic_mean       Harmonic mean of data.\n",
       "median              Median (middle value) of data.\n",
       "median_low          Low median of data.\n",
       "median_high         High median of data.\n",
       "median_grouped      Median, or 50th percentile, of grouped data.\n",
       "mode                Mode (most common value) of data.\n",
       "multimode           List of modes (most common values of data).\n",
       "quantiles           Divide data into intervals with equal probability.\n",
       "==================  ==================================================\n",
       "\n",
       "Calculate the arithmetic mean (\"the average\") of data:\n",
       "\n",
       ">>> mean([-1.0, 2.5, 3.25, 5.75])\n",
       "2.625\n",
       "\n",
       "\n",
       "Calculate the standard median of discrete data:\n",
       "\n",
       ">>> median([2, 3, 4, 5])\n",
       "3.5\n",
       "\n",
       "\n",
       "Calculate the median, or 50th percentile, of data grouped into class intervals\n",
       "centred on the data values provided. E.g. if your data points are rounded to\n",
       "the nearest whole number:\n",
       "\n",
       ">>> median_grouped([2, 2, 3, 3, 3, 4])  #doctest: +ELLIPSIS\n",
       "2.8333333333...\n",
       "\n",
       "This should be interpreted in this way: you have two data points in the class\n",
       "interval 1.5-2.5, three data points in the class interval 2.5-3.5, and one in\n",
       "the class interval 3.5-4.5. The median of these data points is 2.8333...\n",
       "\n",
       "\n",
       "Calculating variability or spread\n",
       "---------------------------------\n",
       "\n",
       "==================  =============================================\n",
       "Function            Description\n",
       "==================  =============================================\n",
       "pvariance           Population variance of data.\n",
       "variance            Sample variance of data.\n",
       "pstdev              Population standard deviation of data.\n",
       "stdev               Sample standard deviation of data.\n",
       "==================  =============================================\n",
       "\n",
       "Calculate the standard deviation of sample data:\n",
       "\n",
       ">>> stdev([2.5, 3.25, 5.5, 11.25, 11.75])  #doctest: +ELLIPSIS\n",
       "4.38961843444...\n",
       "\n",
       "If you have previously calculated the mean, you can pass it as the optional\n",
       "second argument to the four \"spread\" functions to avoid recalculating it:\n",
       "\n",
       ">>> data = [1, 2, 2, 4, 4, 4, 5, 6]\n",
       ">>> mu = mean(data)\n",
       ">>> pvariance(data, mu)\n",
       "2.5\n",
       "\n",
       "\n",
       "Exceptions\n",
       "----------\n",
       "\n",
       "A single exception is defined: StatisticsError is a subclass of ValueError.\n"
      ]
     },
     "metadata": {},
     "output_type": "display_data"
    }
   ],
   "source": [
    "statistics?"
   ]
  },
  {
   "cell_type": "code",
   "execution_count": null,
   "id": "8f0b04ab-1f3c-4b53-a485-5025d6ce16c1",
   "metadata": {},
   "outputs": [],
   "source": []
  }
 ],
 "metadata": {
  "kernelspec": {
   "display_name": "Python 3 (ipykernel)",
   "language": "python",
   "name": "python3"
  },
  "language_info": {
   "codemirror_mode": {
    "name": "ipython",
    "version": 3
   },
   "file_extension": ".py",
   "mimetype": "text/x-python",
   "name": "python",
   "nbconvert_exporter": "python",
   "pygments_lexer": "ipython3",
   "version": "3.9.7"
  }
 },
 "nbformat": 4,
 "nbformat_minor": 5
}
