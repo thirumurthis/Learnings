{
 "cells": [
  {
   "cell_type": "markdown",
   "id": "c224bbbd-77fb-48c7-9600-5889f2e646e6",
   "metadata": {},
   "source": [
    "## using json load(), loads(), dump(), dumps() method - s => refers string\n",
    "### read json from file"
   ]
  },
  {
   "cell_type": "code",
   "execution_count": 10,
   "id": "47c70a33-a472-4206-844f-57f1227c24ca",
   "metadata": {},
   "outputs": [
    {
     "name": "stdout",
     "output_type": "stream",
     "text": [
      "{'name': 'tim', 'age': 20, 'isHumam': True}\n"
     ]
    }
   ],
   "source": [
    "import json\n",
    "\n",
    "jsonfile = open(\"input.json\")\n",
    "dataRead = json.load(jsonfile)\n",
    "jsonfile.close()\n",
    "print(dataRead)"
   ]
  },
  {
   "cell_type": "markdown",
   "id": "68a0b58c-d392-4dfe-a183-a07c51a13926",
   "metadata": {},
   "source": [
    "### convert json content to python string"
   ]
  },
  {
   "cell_type": "code",
   "execution_count": 14,
   "id": "52170d04-eb5b-4067-bbb7-ccb93047c546",
   "metadata": {},
   "outputs": [
    {
     "name": "stdout",
     "output_type": "stream",
     "text": [
      "{'movie': 'Kungfu Panda', 'isAnimated': True, 'actors': None}\n"
     ]
    }
   ],
   "source": [
    "value= \"\"\"\n",
    "{ \"movie\":\"Kungfu Panda\",\"isAnimated\":true,\"actors\":null}\n",
    "\"\"\"\n",
    "## true will be converted to Python True\n",
    "## null will be converted to None\n",
    "dataOut = json.loads(value)\n",
    "print(dataOut)"
   ]
  },
  {
   "cell_type": "markdown",
   "id": "14a4fb05-3dde-4d09-b39a-758f1a053665",
   "metadata": {},
   "source": [
    "### in order to save the json content with utf-8 encoding to database"
   ]
  },
  {
   "cell_type": "code",
   "execution_count": 15,
   "id": "b79796b1-9b6e-4248-928f-43569f2c6566",
   "metadata": {},
   "outputs": [
    {
     "data": {
      "text/plain": [
       "'\"\\\\n{ \\\\\"movie\\\\\":\\\\\"Kungfu Panda\\\\\",\\\\\"isAnimated\\\\\":true,\\\\\"actors\\\\\":null}\\\\n\"'"
      ]
     },
     "execution_count": 15,
     "metadata": {},
     "output_type": "execute_result"
    }
   ],
   "source": [
    "json.dumps(value)"
   ]
  },
  {
   "cell_type": "markdown",
   "id": "a44eba0a-cde5-46ad-acc8-433dd5cb18d6",
   "metadata": {},
   "source": [
    "### write the content to a file"
   ]
  },
  {
   "cell_type": "code",
   "execution_count": 16,
   "id": "3fc4d8ad-22bd-4850-8af8-508692d8ed1a",
   "metadata": {},
   "outputs": [],
   "source": [
    "## open up a file in write mode\n",
    "fileToWrite = open(\"output.json\",\"w\",encoding=\"utf-8\")\n",
    "## if the content has a non-ASCII character set the ensure_ascii=False\n",
    "json.dump(value,fileToWrite, ensure_ascii=False)\n",
    "fileToWrite.close()\n"
   ]
  },
  {
   "cell_type": "code",
   "execution_count": null,
   "id": "4c92d4eb-4daa-4236-9db8-da620b979ff1",
   "metadata": {},
   "outputs": [],
   "source": []
  }
 ],
 "metadata": {
  "kernelspec": {
   "display_name": "Python 3 (ipykernel)",
   "language": "python",
   "name": "python3"
  },
  "language_info": {
   "codemirror_mode": {
    "name": "ipython",
    "version": 3
   },
   "file_extension": ".py",
   "mimetype": "text/x-python",
   "name": "python",
   "nbconvert_exporter": "python",
   "pygments_lexer": "ipython3",
   "version": "3.9.7"
  }
 },
 "nbformat": 4,
 "nbformat_minor": 5
}
