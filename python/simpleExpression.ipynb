{
 "cells": [
  {
   "cell_type": "markdown",
   "id": "9b12e91d-20a9-4ddf-9224-0699c6190a4f",
   "metadata": {},
   "source": [
    "### use of max and min "
   ]
  },
  {
   "cell_type": "code",
   "execution_count": 1,
   "id": "68d646b7-01ed-4971-a2be-7ae42bc10149",
   "metadata": {},
   "outputs": [],
   "source": [
    "number = [12,25,342,23]"
   ]
  },
  {
   "cell_type": "code",
   "execution_count": 2,
   "id": "be468e01-c394-46cb-a7f7-ea3d6317d6ce",
   "metadata": {},
   "outputs": [
    {
     "data": {
      "text/plain": [
       "12"
      ]
     },
     "execution_count": 2,
     "metadata": {},
     "output_type": "execute_result"
    }
   ],
   "source": [
    "min(number)"
   ]
  },
  {
   "cell_type": "code",
   "execution_count": 14,
   "id": "32aa01a4-c982-434e-85c1-99ac6a97737e",
   "metadata": {},
   "outputs": [
    {
     "data": {
      "text/plain": [
       "342"
      ]
     },
     "execution_count": 14,
     "metadata": {},
     "output_type": "execute_result"
    }
   ],
   "source": [
    "max(number)"
   ]
  },
  {
   "cell_type": "code",
   "execution_count": 15,
   "id": "56617693-9ce7-4063-a19d-197a6a2b06b1",
   "metadata": {},
   "outputs": [
    {
     "data": {
      "text/plain": [
       "100"
      ]
     },
     "execution_count": 15,
     "metadata": {},
     "output_type": "execute_result"
    }
   ],
   "source": [
    "min(123,100,131)"
   ]
  },
  {
   "cell_type": "markdown",
   "id": "d629c727-ebb1-410d-8510-691f95025d96",
   "metadata": {},
   "source": [
    "#### Simple way to print numbers in same line using `end=` argument"
   ]
  },
  {
   "cell_type": "code",
   "execution_count": 12,
   "id": "d9d2e346-179d-41b6-ae58-c9589ce5fadd",
   "metadata": {},
   "outputs": [
    {
     "name": "stdout",
     "output_type": "stream",
     "text": [
      "5 6 7 8 9 "
     ]
    }
   ],
   "source": [
    "for num in range(5,10):\n",
    "    print(num, end=' ')"
   ]
  },
  {
   "cell_type": "code",
   "execution_count": 13,
   "id": "d129a686-6deb-46e5-b5f3-ab0540df7d99",
   "metadata": {},
   "outputs": [
    {
     "name": "stdout",
     "output_type": "stream",
     "text": [
      "['__class__', '__delattr__', '__dir__', '__doc__', '__eq__', '__format__', '__ge__', '__getattribute__', '__gt__', '__hash__', '__init__', '__init_subclass__', '__le__', '__lt__', '__ne__', '__new__', '__reduce__', '__reduce_ex__', '__repr__', '__setattr__', '__sizeof__', '__str__', '__subclasshook__'] "
     ]
    }
   ],
   "source": [
    "print (dir(object),end=' ')"
   ]
  },
  {
   "cell_type": "markdown",
   "id": "bc1c2d63-14d5-4241-8ebd-a1266fb2cd2e",
   "metadata": {},
   "source": [
    "### to print decimal points."
   ]
  },
  {
   "cell_type": "code",
   "execution_count": 20,
   "id": "6c754597-9b68-40f3-a481-ea5af40a9bde",
   "metadata": {},
   "outputs": [
    {
     "name": "stdout",
     "output_type": "stream",
     "text": [
      " 2.39999999999999991118\n"
     ]
    }
   ],
   "source": [
    "amount = 12/5\n",
    "## prints the decimal point of 20 decimal position\n",
    "print(f'{amount: .20f}')"
   ]
  },
  {
   "cell_type": "markdown",
   "id": "a5382362-4270-4d57-8ce1-a4b6b26d4a36",
   "metadata": {},
   "source": [
    "## using decimal library"
   ]
  },
  {
   "cell_type": "code",
   "execution_count": 21,
   "id": "88639588-a35e-4df8-80b7-5a441761def6",
   "metadata": {},
   "outputs": [
    {
     "name": "stdout",
     "output_type": "stream",
     "text": [
      "1200.00\n"
     ]
    }
   ],
   "source": [
    "## from the decimal module, we import type called Decimal\n",
    "from decimal import Decimal\n",
    "## create an object of Decimal since it is object.\n",
    "principal = Decimal('1200.00')   ## passed as string the deimal value will be represented precisely in memory\n",
    "print(principal)"
   ]
  },
  {
   "cell_type": "code",
   "execution_count": 22,
   "id": "ff5717ac-c996-473c-aa80-3ea0420d26b3",
   "metadata": {},
   "outputs": [],
   "source": [
    "rate = Decimal('0.10')"
   ]
  },
  {
   "cell_type": "markdown",
   "id": "7fc451d6-7a35-4ee3-aeb2-414ffcce112e",
   "metadata": {},
   "source": [
    "### formatting print with right alignment"
   ]
  },
  {
   "cell_type": "code",
   "execution_count": 25,
   "id": "6ae18a17-8398-4d7c-abcf-95f9f5789e06",
   "metadata": {},
   "outputs": [
    {
     "name": "stdout",
     "output_type": "stream",
     "text": [
      " 1   1320.00\n",
      " 2   1452.00\n",
      " 3   1597.20\n",
      " 4   1756.92\n",
      " 5   1932.61\n",
      " 6   2125.87\n",
      " 7   2338.46\n",
      " 8   2572.31\n",
      " 9   2829.54\n",
      "10   3112.49\n"
     ]
    }
   ],
   "source": [
    "## perfomring decimal arithmetic can be done on Decimal type only\n",
    "for year in range(1,11):\n",
    "    amount = principal * (1 + rate) ** year\n",
    "    print( f'{year:>2}{amount:>10.2f}' ) # year: >2 -> right align 1, 2 will be <space>1, etc\n",
    "    # > - represents field width.\n",
    "    # >10.2f - is right align with 10 space and .2f is decimal"
   ]
  },
  {
   "cell_type": "markdown",
   "id": "5eac9662-4864-415e-99e9-b6b999bdea27",
   "metadata": {},
   "source": [
    "#### `break` - break from a loop \n",
    "#### `continue` - to pass that itreation"
   ]
  },
  {
   "cell_type": "code",
   "execution_count": 27,
   "id": "379a8344-a0b6-4e0c-a8bf-27b6df4ea4d4",
   "metadata": {},
   "outputs": [
    {
     "name": "stdout",
     "output_type": "stream",
     "text": [
      "1 2 3 4 5 6 7 11 "
     ]
    }
   ],
   "source": [
    "for num in range(1,25):\n",
    "    if(num ==12):\n",
    "        break\n",
    "    if(num in (8,9,10)):\n",
    "        continue\n",
    "    print(num, end=' ')"
   ]
  },
  {
   "cell_type": "markdown",
   "id": "7714ec15-1549-410d-a120-1dff5b3f6266",
   "metadata": {},
   "source": [
    "### boolean and, or and not"
   ]
  },
  {
   "cell_type": "code",
   "execution_count": 28,
   "id": "f398d180-7ea2-48ee-a278-c5f878c1c3a5",
   "metadata": {},
   "outputs": [
    {
     "name": "stdout",
     "output_type": "stream",
     "text": [
      "senior person\n"
     ]
    }
   ],
   "source": [
    "gender = 'Male'\n",
    "age = 70\n",
    "\n",
    "if age > 65 and gender == 'Male':\n",
    "    print('senior person')"
   ]
  },
  {
   "cell_type": "code",
   "execution_count": 29,
   "id": "d6d8c52f-cd86-4011-8f19-027a80970662",
   "metadata": {},
   "outputs": [
    {
     "name": "stdout",
     "output_type": "stream",
     "text": [
      "grade B\n"
     ]
    }
   ],
   "source": [
    "score = 80\n",
    "\n",
    "if score > 80 or score <90:\n",
    "    print('grade B')"
   ]
  },
  {
   "cell_type": "code",
   "execution_count": 31,
   "id": "f36d3e4a-2ded-4f35-806b-3459633999b2",
   "metadata": {},
   "outputs": [
    {
     "name": "stdout",
     "output_type": "stream",
     "text": [
      "the grade is less than 10 value =  5\n"
     ]
    }
   ],
   "source": [
    "grade = 5\n",
    "\n",
    "if not grade > 10:\n",
    "    print('the grade is less than 10 value = ',grade)"
   ]
  },
  {
   "cell_type": "markdown",
   "id": "41935c3e-fc3b-450d-8936-6d7fe39ecd68",
   "metadata": {},
   "source": [
    "### Statistics - Measures of Central Tendency - Mean, Median and Mode\n",
    " - Mean - average\n",
    " - Median - middle value when value arranged in sorted order\n",
    " - Mode - the most frequently occuring value \n",
    "         - (exactly same number of occurance - no mode)\n",
    "         - ( multiple numbers can have occurance - library can give exceptions)"
   ]
  },
  {
   "cell_type": "code",
   "execution_count": 32,
   "id": "3e011d18-255f-4540-8c4f-8fde8ef74328",
   "metadata": {},
   "outputs": [],
   "source": [
    "grades_scores = [85,93,45,89,85]"
   ]
  },
  {
   "cell_type": "code",
   "execution_count": 34,
   "id": "5fdecc5a-5c66-414f-9667-d654caf9e80c",
   "metadata": {},
   "outputs": [
    {
     "name": "stdout",
     "output_type": "stream",
     "text": [
      "79.4\n"
     ]
    }
   ],
   "source": [
    "## mean using built-in function\n",
    "mean1 = sum(grades_scores)/len(grades_scores)\n",
    "print(mean1)"
   ]
  },
  {
   "cell_type": "markdown",
   "id": "240bb0f2-27b6-4438-b0ed-b02690e664e4",
   "metadata": {},
   "source": [
    "### using statistics module\n",
    " - Pressing <tab> key helps displaying list of function starting with"
   ]
  },
  {
   "cell_type": "code",
   "execution_count": 35,
   "id": "7f51399e-cfe2-4c18-8327-66eb7b6e6fec",
   "metadata": {},
   "outputs": [],
   "source": [
    "import statistics"
   ]
  },
  {
   "cell_type": "code",
   "execution_count": 36,
   "id": "74f76ada-de7d-462c-9334-11545922b54d",
   "metadata": {},
   "outputs": [
    {
     "data": {
      "text/plain": [
       "79.4"
      ]
     },
     "execution_count": 36,
     "metadata": {},
     "output_type": "execute_result"
    }
   ],
   "source": [
    "statistics.mean(grades_scores)"
   ]
  },
  {
   "cell_type": "code",
   "execution_count": 39,
   "id": "e9d737a0-cd7b-40ef-b692-b887f3120685",
   "metadata": {},
   "outputs": [
    {
     "data": {
      "text/plain": [
       "85"
      ]
     },
     "execution_count": 39,
     "metadata": {},
     "output_type": "execute_result"
    }
   ],
   "source": [
    "statistics.median(grades_scores) # 45, 85,85,89,93"
   ]
  },
  {
   "cell_type": "code",
   "execution_count": 40,
   "id": "e162a3fb-9652-4900-b990-7bbd1f432cb0",
   "metadata": {},
   "outputs": [
    {
     "data": {
      "text/plain": [
       "85"
      ]
     },
     "execution_count": 40,
     "metadata": {},
     "output_type": "execute_result"
    }
   ],
   "source": [
    "statistics.mode(grades_scores)"
   ]
  },
  {
   "cell_type": "code",
   "execution_count": 41,
   "id": "6fed5774-48fd-4d43-8823-bc79c3e478b7",
   "metadata": {},
   "outputs": [
    {
     "data": {
      "text/plain": [
       "[45, 85, 85, 89, 93]"
      ]
     },
     "execution_count": 41,
     "metadata": {},
     "output_type": "execute_result"
    }
   ],
   "source": [
    "## simple buit-in for sort\n",
    "sorted(grades_scores)"
   ]
  },
  {
   "cell_type": "code",
   "execution_count": null,
   "id": "26c71760-a177-4a44-be9a-52f06ecb07fc",
   "metadata": {},
   "outputs": [],
   "source": []
  }
 ],
 "metadata": {
  "kernelspec": {
   "display_name": "Python 3 (ipykernel)",
   "language": "python",
   "name": "python3"
  },
  "language_info": {
   "codemirror_mode": {
    "name": "ipython",
    "version": 3
   },
   "file_extension": ".py",
   "mimetype": "text/x-python",
   "name": "python",
   "nbconvert_exporter": "python",
   "pygments_lexer": "ipython3",
   "version": "3.9.7"
  }
 },
 "nbformat": 4,
 "nbformat_minor": 5
}
