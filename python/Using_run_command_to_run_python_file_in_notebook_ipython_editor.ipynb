{
 "cells": [
  {
   "cell_type": "code",
   "execution_count": 1,
   "id": "57fd584e-bf1f-4bd5-bfdd-979c3d6d4882",
   "metadata": {},
   "outputs": [],
   "source": [
    "import random"
   ]
  },
  {
   "cell_type": "code",
   "execution_count": 3,
   "id": "10aa968a-fd3e-41f5-a51f-ffff03a73f12",
   "metadata": {},
   "outputs": [
    {
     "name": "stdout",
     "output_type": "stream",
     "text": [
      "2 6 6 3 7 1 1 1 4 2 "
     ]
    }
   ],
   "source": [
    "for roll in range(10):\n",
    "    print(random.randrange(1,8), end=' ')"
   ]
  },
  {
   "cell_type": "markdown",
   "id": "30e6a32c-c28d-4eb6-b527-c34789ff69b1",
   "metadata": {},
   "source": [
    "### running the python files in notebook or ipython editor\n",
    "#### created a file simpleMath.py with funtion to add two numbers\n",
    "```py\n",
    "def addnum(a,b):\n",
    "    \"\"\" Add two number a , b \"\"\"\n",
    "    print ('[in function addnum ] - a + b = ', a+b)\n",
    "    return a+b\n",
    "\n",
    "num1 = 10\n",
    "num2 = 15\n",
    "\n",
    "res = addnum(num1, num2)\n",
    "print(f'result of {num1} + {num2} = {res}')\n",
    "```"
   ]
  },
  {
   "cell_type": "code",
   "execution_count": 9,
   "id": "dbc00cc9-0a12-425e-ae5e-3c4b5ce20c2c",
   "metadata": {},
   "outputs": [
    {
     "name": "stdout",
     "output_type": "stream",
     "text": [
      "[in function addnum ] - a + b =  25\n",
      "result of 10 + 15 = 25\n"
     ]
    }
   ],
   "source": [
    "run simpleMath.py"
   ]
  },
  {
   "cell_type": "markdown",
   "id": "db10deac-b313-4384-ab6e-779bf0972565",
   "metadata": {},
   "source": [
    "### Function to return more than one value - either Tupe, List, dict.\n",
    "#### Tuple used below. Note: () is not mandtory"
   ]
  },
  {
   "cell_type": "code",
   "execution_count": 13,
   "id": "9dfd6207-8791-4dec-8854-55be0e520ac6",
   "metadata": {},
   "outputs": [
    {
     "name": "stdout",
     "output_type": "stream",
     "text": [
      "Rolled Dice 5 4\n"
     ]
    }
   ],
   "source": [
    "import random\n",
    "def roll_dice():\n",
    "    \"\"\" Random two dice rolling \"\"\"\n",
    "    dice1 = random.randrange(1,7)\n",
    "    dice2 = random.randrange(1,7)\n",
    "    return (dice1,dice2)   ## The use () is not mandatory, added for readability\n",
    "\n",
    "def display(diceValue):\n",
    "    \"\"\" print the dice values passed \"\"\"\n",
    "    rDice1, rDice2 = diceValue\n",
    "    print(f'Rolled Dice {rDice1} {rDice2}')\n",
    "\n",
    "dice_values=roll_dice()\n",
    "display_dice=display(dice_values)"
   ]
  },
  {
   "cell_type": "code",
   "execution_count": 14,
   "id": "d5a2307a-9e96-4abc-ad20-71da65d13751",
   "metadata": {},
   "outputs": [],
   "source": [
    "import math"
   ]
  },
  {
   "cell_type": "code",
   "execution_count": 15,
   "id": "e99acc8f-79c9-48b4-a8c0-4e9b0f9be7ab",
   "metadata": {},
   "outputs": [
    {
     "data": {
      "text/plain": [
       "\u001b[1;31mSignature:\u001b[0m \u001b[0mmath\u001b[0m\u001b[1;33m.\u001b[0m\u001b[0mpow\u001b[0m\u001b[1;33m(\u001b[0m\u001b[0mx\u001b[0m\u001b[1;33m,\u001b[0m \u001b[0my\u001b[0m\u001b[1;33m,\u001b[0m \u001b[1;33m/\u001b[0m\u001b[1;33m)\u001b[0m\u001b[1;33m\u001b[0m\u001b[1;33m\u001b[0m\u001b[0m\n",
       "\u001b[1;31mDocstring:\u001b[0m Return x**y (x to the power of y).\n",
       "\u001b[1;31mType:\u001b[0m      builtin_function_or_method\n"
      ]
     },
     "metadata": {},
     "output_type": "display_data"
    }
   ],
   "source": [
    "math.pow?"
   ]
  },
  {
   "cell_type": "code",
   "execution_count": null,
   "id": "73688c55-24a8-48be-86a5-edc8a8f2528e",
   "metadata": {},
   "outputs": [],
   "source": [
    "### provides the help docs \n",
    "help(math)"
   ]
  },
  {
   "cell_type": "markdown",
   "id": "5af73c5a-53da-41e4-9c09-be3eaf1c11cd",
   "metadata": {},
   "source": [
    "### Using Default parameter values"
   ]
  },
  {
   "cell_type": "code",
   "execution_count": 17,
   "id": "8d9e2d8d-f7f6-4582-b4e3-c3902ff80175",
   "metadata": {},
   "outputs": [],
   "source": [
    "def area_rectangle(length=1,width=2):\n",
    "    \"\"\" Returns the area of rectangle \"\"\"\n",
    "    return length * width"
   ]
  },
  {
   "cell_type": "code",
   "execution_count": 18,
   "id": "b42a2165-915b-4aa8-8738-00dc3baed8f6",
   "metadata": {},
   "outputs": [
    {
     "name": "stdout",
     "output_type": "stream",
     "text": [
      "200\n"
     ]
    }
   ],
   "source": [
    "print(area_rectangle(10,20))"
   ]
  },
  {
   "cell_type": "code",
   "execution_count": 20,
   "id": "19043b3b-75c3-42c5-a38a-064b31dabf39",
   "metadata": {},
   "outputs": [
    {
     "name": "stdout",
     "output_type": "stream",
     "text": [
      "20\n"
     ]
    }
   ],
   "source": [
    "print(area_rectangle(10))  ## uses the widht 2 default"
   ]
  },
  {
   "cell_type": "markdown",
   "id": "714be734-d892-49c5-945d-953fa552b994",
   "metadata": {},
   "source": [
    "### Using keyword arguments"
   ]
  },
  {
   "cell_type": "code",
   "execution_count": 24,
   "id": "1858d97f-8bbc-47cb-9f3d-fe4821c899ee",
   "metadata": {},
   "outputs": [
    {
     "name": "stdout",
     "output_type": "stream",
     "text": [
      "200\n",
      "200\n"
     ]
    }
   ],
   "source": [
    "def rectangle_area(length, width):  ## removed the default values \n",
    "    \"\"\" Returns the area of the rectangle\"\"\"\n",
    "    return length * width\n",
    "\n",
    "### in python we can use parameter name to pass the parameter name\n",
    "\n",
    "print(rectangle_area(width=10,length=20)) ## called with parameter name and different order\n",
    "print(rectangle_area(length=20,width=10))"
   ]
  },
  {
   "cell_type": "markdown",
   "id": "51ecc981-49ca-494f-802b-4bcfe809a1d5",
   "metadata": {},
   "source": [
    "### passing arbitary number of arguments using `*`.\n",
    "#### note this argument with * should be the last parameter in the function arguments"
   ]
  },
  {
   "cell_type": "code",
   "execution_count": 26,
   "id": "44b14ed5-a419-469e-a4ee-936f9e518c14",
   "metadata": {},
   "outputs": [
    {
     "name": "stdout",
     "output_type": "stream",
     "text": [
      "3.5\n"
     ]
    }
   ],
   "source": [
    "def average(*args):\n",
    "     return sum(args)/ len(args)\n",
    "    \n",
    "print(average(1,2,3,4,5,6))"
   ]
  },
  {
   "cell_type": "markdown",
   "id": "746e40e7-6bc0-404b-8b35-82a2192eea84",
   "metadata": {},
   "source": [
    "##### using * on the list variable unpacks the values and passes to function"
   ]
  },
  {
   "cell_type": "code",
   "execution_count": 29,
   "id": "23cf1d47-dab7-4bee-8bd6-2c10ff7f066d",
   "metadata": {},
   "outputs": [
    {
     "name": "stdout",
     "output_type": "stream",
     "text": [
      "27.6\n",
      "3 9 10 7 109\n"
     ]
    }
   ],
   "source": [
    "rand_number = [3,9,10,7,109]\n",
    "### passing the unpacked list in the function using *<list-variable>\n",
    "print(average(*rand_number))\n",
    "print(*rand_number)"
   ]
  },
  {
   "cell_type": "code",
   "execution_count": null,
   "id": "708adb3f-5293-4b45-b5da-345cc1e6712f",
   "metadata": {},
   "outputs": [],
   "source": []
  }
 ],
 "metadata": {
  "kernelspec": {
   "display_name": "Python 3 (ipykernel)",
   "language": "python",
   "name": "python3"
  },
  "language_info": {
   "codemirror_mode": {
    "name": "ipython",
    "version": 3
   },
   "file_extension": ".py",
   "mimetype": "text/x-python",
   "name": "python",
   "nbconvert_exporter": "python",
   "pygments_lexer": "ipython3",
   "version": "3.9.7"
  }
 },
 "nbformat": 4,
 "nbformat_minor": 5
}
