{
 "cells": [
  {
   "cell_type": "markdown",
   "id": "429f001d-ded2-4a7a-8192-885f87bc7635",
   "metadata": {},
   "source": [
    "### Logging modules in python"
   ]
  },
  {
   "cell_type": "code",
   "execution_count": 1,
   "id": "08473002-a542-4e4a-9fff-5644c2c8a781",
   "metadata": {},
   "outputs": [
    {
     "data": {
      "text/plain": [
       "['BASIC_FORMAT',\n",
       " 'BufferingFormatter',\n",
       " 'CRITICAL',\n",
       " 'DEBUG',\n",
       " 'ERROR',\n",
       " 'FATAL',\n",
       " 'FileHandler',\n",
       " 'Filter',\n",
       " 'Filterer',\n",
       " 'Formatter',\n",
       " 'Handler',\n",
       " 'INFO',\n",
       " 'LogRecord',\n",
       " 'Logger',\n",
       " 'LoggerAdapter',\n",
       " 'Manager',\n",
       " 'NOTSET',\n",
       " 'NullHandler',\n",
       " 'PercentStyle',\n",
       " 'PlaceHolder',\n",
       " 'RootLogger',\n",
       " 'StrFormatStyle',\n",
       " 'StreamHandler',\n",
       " 'StringTemplateStyle',\n",
       " 'Template',\n",
       " 'WARN',\n",
       " 'WARNING',\n",
       " '_STYLES',\n",
       " '_StderrHandler',\n",
       " '__all__',\n",
       " '__author__',\n",
       " '__builtins__',\n",
       " '__cached__',\n",
       " '__date__',\n",
       " '__doc__',\n",
       " '__file__',\n",
       " '__loader__',\n",
       " '__name__',\n",
       " '__package__',\n",
       " '__path__',\n",
       " '__spec__',\n",
       " '__status__',\n",
       " '__version__',\n",
       " '_acquireLock',\n",
       " '_addHandlerRef',\n",
       " '_checkLevel',\n",
       " '_defaultFormatter',\n",
       " '_defaultLastResort',\n",
       " '_handlerList',\n",
       " '_handlers',\n",
       " '_levelToName',\n",
       " '_lock',\n",
       " '_logRecordFactory',\n",
       " '_loggerClass',\n",
       " '_nameToLevel',\n",
       " '_register_at_fork_reinit_lock',\n",
       " '_releaseLock',\n",
       " '_removeHandlerRef',\n",
       " '_showwarning',\n",
       " '_srcfile',\n",
       " '_startTime',\n",
       " '_str_formatter',\n",
       " '_warnings_showwarning',\n",
       " 'addLevelName',\n",
       " 'atexit',\n",
       " 'basicConfig',\n",
       " 'captureWarnings',\n",
       " 'collections',\n",
       " 'critical',\n",
       " 'currentframe',\n",
       " 'debug',\n",
       " 'disable',\n",
       " 'error',\n",
       " 'exception',\n",
       " 'fatal',\n",
       " 'getLevelName',\n",
       " 'getLogRecordFactory',\n",
       " 'getLogger',\n",
       " 'getLoggerClass',\n",
       " 'handlers',\n",
       " 'info',\n",
       " 'io',\n",
       " 'lastResort',\n",
       " 'log',\n",
       " 'logMultiprocessing',\n",
       " 'logProcesses',\n",
       " 'logThreads',\n",
       " 'makeLogRecord',\n",
       " 'os',\n",
       " 'raiseExceptions',\n",
       " 're',\n",
       " 'root',\n",
       " 'setLogRecordFactory',\n",
       " 'setLoggerClass',\n",
       " 'shutdown',\n",
       " 'sys',\n",
       " 'threading',\n",
       " 'time',\n",
       " 'traceback',\n",
       " 'warn',\n",
       " 'warning',\n",
       " 'warnings',\n",
       " 'weakref']"
      ]
     },
     "execution_count": 1,
     "metadata": {},
     "output_type": "execute_result"
    }
   ],
   "source": [
    "import logging\n",
    "dir(logging) ## output of this statement inferred\n",
    "\n",
    "### entries with UPPER CASE are constants\n",
    "### entires with Camel case are classes\n",
    "### entries starting with lower case are methods"
   ]
  },
  {
   "cell_type": "code",
   "execution_count": 2,
   "id": "129679b1-db66-47aa-8e8b-194203d797aa",
   "metadata": {},
   "outputs": [],
   "source": [
    "### using basicConfig method to set the log configuration\n",
    "### we will use the logger to update per our requirement\n",
    "import logging\n",
    "### Configure logger with a file where to log\n",
    "### if the file doesn't exists python will create it\n",
    "logging.basicConfig(filename=\"app-log.log\")\n",
    "\n",
    "## we can provide name to logger, check documentation\n",
    "logger = logging.getLogger()\n",
    "\n",
    "## To write an info message \n",
    "logger.info(\"This is info message from application\")\n",
    "\n",
    "### At this point if we run the code the log will be empty even if we print info"
   ]
  },
  {
   "cell_type": "code",
   "execution_count": 3,
   "id": "21682905-214b-4235-926a-a15a6cf95660",
   "metadata": {},
   "outputs": [
    {
     "name": "stdout",
     "output_type": "stream",
     "text": [
      "30\n"
     ]
    }
   ],
   "source": [
    "print(logger.level)\n",
    "## 30 printed, since the basicConfig of root logger is set default log level to WARNING level"
   ]
  },
  {
   "cell_type": "markdown",
   "id": "342fa16d-eac9-4beb-b5fb-9b5a7ac4eff4",
   "metadata": {},
   "source": [
    "##### in logging module the log level are set with numeric values, so in our case default is 30 which is warning level\n",
    "\n",
    "| Level | Numeric value |\n",
    "| ----- | ------ |\n",
    "| NOTSET  | 0 |\n",
    "| DEBUG   | 10 |\n",
    "| INFO | 20 |\n",
    "| WARN | 30 | \n",
    "| ERROR | 40 |\n",
    "| CRITICAL | 50 |"
   ]
  },
  {
   "cell_type": "code",
   "execution_count": 9,
   "id": "5d9b8df0-d345-4009-9e00-f103e3c46ff7",
   "metadata": {},
   "outputs": [
    {
     "name": "stdout",
     "output_type": "stream",
     "text": [
      "10\n"
     ]
    }
   ],
   "source": [
    "## to fix update the default log level\n",
    "import logging \n",
    "logging.basicConfig(filename=\"app-log.log\", \\\n",
    "                    level=logging.DEBUG)\n",
    "logger = logging.getLogger()\n",
    "print(logger.level)\n",
    "logger.warning(\"after updating the new level\")\n",
    "\n",
    "### content in the output, looks like below with no time\n",
    "### WARNING:root:after updating the new level"
   ]
  },
  {
   "cell_type": "code",
   "execution_count": 10,
   "id": "5ae473db-9544-4de3-a55d-5050758d2329",
   "metadata": {},
   "outputs": [
    {
     "name": "stdout",
     "output_type": "stream",
     "text": [
      "10\n"
     ]
    }
   ],
   "source": [
    "## to fix update the default log level\n",
    "import logging \n",
    "## create a format for logging \n",
    "LOG_FORMAT = \"%(levelname)s %(asctime)s - %(message)s\"\n",
    "logging.basicConfig(filename=\"app-log.log\", level=logging.DEBUG, \\\n",
    "                    format= LOG_FORMAT, filemode = 'w')\n",
    "logger = logg1.getLogger()\n",
    "logger.info(\"after updating the new level\")\n",
    "print(logger.level)"
   ]
  },
  {
   "cell_type": "code",
   "execution_count": null,
   "id": "76152a63-60af-4dd1-bc9a-fd9905782ec8",
   "metadata": {},
   "outputs": [],
   "source": []
  }
 ],
 "metadata": {
  "kernelspec": {
   "display_name": "Python 3 (ipykernel)",
   "language": "python",
   "name": "python3"
  },
  "language_info": {
   "codemirror_mode": {
    "name": "ipython",
    "version": 3
   },
   "file_extension": ".py",
   "mimetype": "text/x-python",
   "name": "python",
   "nbconvert_exporter": "python",
   "pygments_lexer": "ipython3",
   "version": "3.9.7"
  }
 },
 "nbformat": 4,
 "nbformat_minor": 5
}
