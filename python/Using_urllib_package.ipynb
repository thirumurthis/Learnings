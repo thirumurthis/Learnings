{
 "cells": [
  {
   "cell_type": "markdown",
   "id": "88394fbe-38d3-4006-9df2-0ecaa56d883a",
   "metadata": {},
   "source": [
    "### using urllib package"
   ]
  },
  {
   "cell_type": "markdown",
   "id": "0ed86164-2881-42af-b66a-371629c00070",
   "metadata": {},
   "source": [
    "### Different methods under the package\n",
    "- request = to open url\n",
    "- response = used internally\n",
    "- error  = exception in request\n",
    "- parser = url functions\n",
    "- robotparser = used to inspect robots.txt file."
   ]
  },
  {
   "cell_type": "code",
   "execution_count": 27,
   "id": "70822375-2b3d-453e-9533-ba14cac28e18",
   "metadata": {},
   "outputs": [
    {
     "data": {
      "text/plain": [
       "['__builtins__',\n",
       " '__cached__',\n",
       " '__doc__',\n",
       " '__file__',\n",
       " '__loader__',\n",
       " '__name__',\n",
       " '__package__',\n",
       " '__path__',\n",
       " '__spec__',\n",
       " 'error',\n",
       " 'parse',\n",
       " 'request',\n",
       " 'response']"
      ]
     },
     "execution_count": 27,
     "metadata": {},
     "output_type": "execute_result"
    }
   ],
   "source": [
    "import urllib\n",
    "## we can use dir(urllib) to see the methods in the package\n",
    "dir(urllib)"
   ]
  },
  {
   "cell_type": "code",
   "execution_count": 28,
   "id": "ac6b2fa9-8311-4086-9e08-eca7a41d5003",
   "metadata": {},
   "outputs": [
    {
     "name": "stdout",
     "output_type": "stream",
     "text": [
      "<class 'http.client.HTTPResponse'>\n",
      "200\n"
     ]
    },
    {
     "data": {
      "text/plain": [
       "b'<!doctype html><html lang=\"en\" dir=\"ltr\"><head><meta name=\"theme-color\" content=\"#4F4F4F\" /><meta name=\"description\" content=\"Bing helps you turn information into action, making it faster and easier to go from searching to doing.\" /><meta http-equiv=\"X-UA-Compatible\" content=\"IE=edge\" /><meta name=\"viewport\" content=\"width=device-width, initial-scale=1.0\" /><meta property=\"fb:app_id\" content=\"570810223073062\" /><meta property=\"og:type\" content=\"website\" /><meta property=\"og:title\" content=\"Great on so many levels\" /><meta property=\"og:image\" content=\"https://www.bing.com/th?id=OHR.HuayMaeKhamin_EN-US1949606808_tmb.jpg&amp;rf=\" /><meta property=\"og:image:width\" content=\"1366\" /><meta property=\"og:image:height\" content=\"768\" /><meta property=\"og:url\" content=\"https://www.bing.com/?form=HPFBBK&amp;ssd=20211007_0700&amp;mkt=en-US\" /><meta property=\"og:site_name\" content=\"Bing\" /><meta property=\"og:description\" content=\"Water flows evenly over seven distinct tiers of pa\" /><title>Bing</title><link rel=\"shortcut icon\" href=\"/sa/simg/favicon-2x.ico\" /><link rel=\"preload\" href=\"/th?id=OHR.HuayMaeKhamin_EN-US1949606808_1920x1080.jpg&amp;rf=LaDigue_1920x1080.jpg\" as=\"image\" id=\"preloadBg\" /><link rel=\"preload\" href=\"/rp/tlifxqsNyCzxIJnRwtQKuZToQQw.js\" as=\"script\" /><style type=\"text/css\">@media(max-width:1237px){#id_n{white-space:nowrap;overflow:hidden;text-overflow:ellipsis;max-width:100px;display:inline-block}}.rwds_svg{vertical-align:top;display:inline-block}.rwds_svg.mobile{float:left}.rwds_svg.serp{margin:8px 0 0 8px}.rwds_svg.serp.mobile{margin:8px 4px 0 8px}.rwds_svg.hp{margin:5px 4px 0 8px}.rwds_svg.hp.mobile{margin:5px 4px 0 10px}.rhlined,.rhfill{vertical-align:top;width:32px;height:32px}#id_rh,#id_rbh{position:relative}.rhcoinflip{vertical-align:top;width:60px;height:60px;position:absolute;right:-6px;top:-6px}#idCont .rhcoinflip{position:absolute;right:-5px;top:-9px}#rh_meter{vertical-align:top;width:40px;height:40px;margin-left:-36px;margin-top:-4px}.rh_reedm .rhlined,.rhfill,.rh_reedm .meter{display:none}.rhlin'"
      ]
     },
     "execution_count": 28,
     "metadata": {},
     "output_type": "execute_result"
    }
   ],
   "source": [
    "from urllib import request\n",
    "response = request.urlopen(\"https://www.bing.com\")\n",
    "print(type(response))\n",
    "print(response.code)\n",
    "response.peek()  ## This indicates as b'..' refers as binary. some web renders binary data"
   ]
  },
  {
   "cell_type": "code",
   "execution_count": 29,
   "id": "6aa1f173-2786-4d53-9464-93ca80d50ae7",
   "metadata": {},
   "outputs": [
    {
     "name": "stdout",
     "output_type": "stream",
     "text": [
      "76430\n"
     ]
    }
   ],
   "source": [
    "data = response.read()  ### Reading the entire response now\n",
    "print(len(data))"
   ]
  },
  {
   "cell_type": "code",
   "execution_count": 31,
   "id": "cf3882dd-0334-465a-8dfa-265b02a1496a",
   "metadata": {},
   "outputs": [
    {
     "name": "stdout",
     "output_type": "stream",
     "text": [
      "<class 'str'>\n"
     ]
    }
   ],
   "source": [
    "### in case if we need to decode the content of the xml we can use \n",
    "htmlContent = data.decode(\"utf-8\")\n",
    "print(type(htmlContent))"
   ]
  },
  {
   "cell_type": "code",
   "execution_count": 17,
   "id": "8818a49f-7284-4329-b1a4-c2b24ad9d44b",
   "metadata": {},
   "outputs": [
    {
     "data": {
      "text/plain": [
       "b''"
      ]
     },
     "execution_count": 17,
     "metadata": {},
     "output_type": "execute_result"
    }
   ],
   "source": [
    "### if we try to read the response again, the first .read() will fetch and close the connection\n",
    "response.read()"
   ]
  },
  {
   "cell_type": "markdown",
   "id": "255db2a1-2c50-4c3c-b798-64e328638584",
   "metadata": {},
   "source": [
    "#### in order to create url parameters"
   ]
  },
  {
   "cell_type": "code",
   "execution_count": 23,
   "id": "52494817-850c-4aac-b76e-8af4a6373b99",
   "metadata": {},
   "outputs": [
    {
     "name": "stdout",
     "output_type": "stream",
     "text": [
      "http://localost:8080?username=tim&id=100\n"
     ]
    }
   ],
   "source": [
    "# import the parse lib which we can use to constrcut the parameter for url\n",
    "from urllib import parse\n",
    "# dir(parse) # uncomment to view the useful methods in pacakge\n",
    "\n",
    "params = {\"username\":\"tim\",\"id\":100}\n",
    "queryString = parse.urlencode(params)\n",
    "# local simple application\n",
    "print(\"http://localost:8080?\"+queryString)"
   ]
  },
  {
   "cell_type": "markdown",
   "id": "67438142-b32a-4024-b232-a47fdf0336ae",
   "metadata": {},
   "source": [
    "##### To check if the connection is closed"
   ]
  },
  {
   "cell_type": "code",
   "execution_count": 25,
   "id": "57185ffb-7da0-4084-9c5d-b38df8df900b",
   "metadata": {},
   "outputs": [
    {
     "data": {
      "text/plain": [
       "True"
      ]
     },
     "execution_count": 25,
     "metadata": {},
     "output_type": "execute_result"
    }
   ],
   "source": [
    "## check if the connection is active or not using isclosed() method\n",
    "response.isclosed()"
   ]
  },
  {
   "cell_type": "code",
   "execution_count": null,
   "id": "d2d8e5e5-9671-49c7-a6ea-ea9c0785d01a",
   "metadata": {},
   "outputs": [],
   "source": []
  }
 ],
 "metadata": {
  "kernelspec": {
   "display_name": "Python 3 (ipykernel)",
   "language": "python",
   "name": "python3"
  },
  "language_info": {
   "codemirror_mode": {
    "name": "ipython",
    "version": 3
   },
   "file_extension": ".py",
   "mimetype": "text/x-python",
   "name": "python",
   "nbconvert_exporter": "python",
   "pygments_lexer": "ipython3",
   "version": "3.9.7"
  }
 },
 "nbformat": 4,
 "nbformat_minor": 5
}
